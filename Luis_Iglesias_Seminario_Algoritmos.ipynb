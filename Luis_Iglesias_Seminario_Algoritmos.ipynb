{
  "cells": [
    {
      "cell_type": "markdown",
      "metadata": {
        "id": "view-in-github",
        "colab_type": "text"
      },
      "source": [
        "<a href=\"https://colab.research.google.com/github/luisiglesias10/Algoritmos-de-optimizaici-n/blob/main/Luis_Iglesias_Seminario_Algoritmos.ipynb\" target=\"_parent\"><img src=\"https://colab.research.google.com/assets/colab-badge.svg\" alt=\"Open In Colab\"/></a>"
      ]
    },
    {
      "cell_type": "markdown",
      "metadata": {
        "id": "hVbXYX-RfPWh",
        "jp-MarkdownHeadingCollapsed": true,
        "tags": []
      },
      "source": [
        "# Algoritmos de optimización - Seminario<br>\n",
        "Nombre y Apellidos: Luis Iglesias Aguilar.  <br>\n",
        "URL: https://colab.research.google.com/drive/1Dsk_plmv6qGVqo-bipywBjuaHjIdcU0j <br>\n",
        "Github: https://github.com/ludovicoderic/03MAIR-Algoritmos-de-Optimizacion/\n",
        "<br>\n",
        "\n",
        "\n",
        "Problema:\n",
        " Problema seleccionado: Combinar cifras y operaciones\n",
        "\n",
        "***Descripción del problema:***\n",
        "\n",
        "El problema consiste en analizar el siguiente problema y diseñar un algoritmo que lo resuelva.\n",
        "\n",
        "• Disponemos de las 9 cifras del 1 al 9 (excluimos el cero) y de los 4 signos básicos de las\n",
        "operaciones fundamentales: suma(+), resta(-), multiplicación(*) y división(/)\n",
        "\n",
        "• Debemos combinarlos alternativamente sin repetir ninguno de ellos para obtener una cantidad\n",
        "dada. Un ejemplo sería para obtener el 4:\n",
        "\n",
        "4+2-6/3*1 = 4\n",
        "\n",
        "• Debe analizarse el problema para encontrar todos los valores enteros posibles planteando las\n",
        "siguientes cuestiones:\n",
        "- ¿Qué valor máximo y mínimo se pueden obtener según las condiciones del problema?\n",
        "- ¿Es posible encontrar todos los valores enteros posibles entre dicho mínimo y máximo ?\n",
        "\n",
        "• Nota: Es posible usar la función de python “eval” para evaluar una expresión:\n",
        "                                        "
      ]
    },
    {
      "cell_type": "markdown",
      "metadata": {
        "id": "3_-exlrTgLd-",
        "tags": []
      },
      "source": [
        "**(*)¿Cuantas posibilidades hay sin tener en cuenta las restricciones?**<br>\n",
        "\n",
        "\n",
        "\n",
        "\n",
        "\n"
      ]
    },
    {
      "cell_type": "markdown",
      "metadata": {
        "id": "WfCUqJyKhPcw"
      },
      "source": [
        "Respuesta"
      ]
    },
    {
      "cell_type": "markdown",
      "metadata": {
        "id": "GaBYzufK0NP2"
      },
      "source": [
        ">Lo primero que vamos a hacer para poder resolver este problema, es definir claramente las restricciones que se imponen a este problema. En este caso son las siguientes:\n",
        ">- No repetir ningún signo.\n",
        ">- No repetir ningún número.\n",
        " \n",
        ">Así pues, sin tener en cuenta las restricciones, podriamos calcular las posibilidades como una variacion con repeticion:\n",
        " \n",
        ">Nº combinaciones de los 4 signos básicos: $VR_4^4$ $=$ $4^4$ $= 256$\n",
        " \n",
        ">Nº combinaciones de 5 números del 1-9:  $VR_9^5$ $=$ $9^5$ $= 59.049$\n",
        "    \n",
        ">**Nº total de posibilidades** = $4^4$ $*$ $9^5$ $= 15.116.544$  $posibilidades$\n",
        "    \n",
        "    \n",
        "\n"
      ]
    },
    {
      "cell_type": "markdown",
      "metadata": {
        "id": "McUoCC4t0NP3"
      },
      "source": [
        "**¿Cuantas posibilidades hay teniendo en cuenta todas las restricciones.**\n"
      ]
    },
    {
      "cell_type": "markdown",
      "metadata": {
        "id": "HWDdpl_h0NP3"
      },
      "source": [
        "Respuesta"
      ]
    },
    {
      "cell_type": "markdown",
      "metadata": {
        "id": "iq6Fe32MgpDX"
      },
      "source": [
        ">Teniendo en cuenta las restricciones, podríamos calcular las posibilidades como una **variacion sin repeticion??**:\n",
        " \n",
        ">Nº combinaciones de los 4 signos básicos: $4! = 24$\n",
        " \n",
        ">Nº combinaciones de 5 números del 1-9: $\\frac{9!}{4!}$ $= 98.765$  \n",
        "    \n",
        ">**Nº total de posibilidades** = $4!$ $*$ $\\frac{9!}{4!}$ $=$ $9!$ $= 362.880$ posibilidades\n",
        "    \n",
        "    \n",
        " \n",
        "\n"
      ]
    },
    {
      "cell_type": "markdown",
      "metadata": {
        "id": "dzynfVJahHoY"
      },
      "source": [
        "**Modelo para el espacio de soluciones<br>\n",
        "(*) ¿Cual es la estructura de datos que mejor se adapta al problema? Argumentalo.(Es posible que hayas elegido una al principio y veas la necesidad de cambiar, arguentalo)**\n"
      ]
    },
    {
      "cell_type": "markdown",
      "metadata": {
        "id": "xFIJrOwKi2Ti"
      },
      "source": [
        "Respuesta"
      ]
    },
    {
      "cell_type": "markdown",
      "metadata": {
        "id": "55E7ZAng0NP5"
      },
      "source": [
        ">Para la resolución de este problema he elegido como estructuras de datos las listas básicas de python.\n",
        " \n",
        ">En un principio, para declarar el conjunto de números, así como el de signos, se van a utilizar dos listas. Una vez hecho, se pasarán las dos listas a una función para obtener las soluciones, dentro de la cual se calcularán todas las permutaciones posibles de cada conjunto, y se irán guardando cada una de ellas en una estructura de tipo lista.\n",
        " \n",
        ">También se probó el uso de sets para que no pudiera haber elementos repetidos más de dos veces en cada conjunto. Aun así, ya que el conjunto de datos de entrada venía dado por el problema y no era necesario modificarlo, no mejoraba los resultados y se continuó utilizando listas.\n",
        " \n",
        "\n"
      ]
    },
    {
      "cell_type": "markdown",
      "metadata": {
        "id": "7Z9U2W7bi-XS"
      },
      "source": [
        "**Según el modelo para el espacio de soluciones<br>\n",
        "(*)¿Cual es la función objetivo?**\n",
        "\n",
        "**(*)¿Es un problema de maximización o minimización?**\n"
      ]
    },
    {
      "cell_type": "markdown",
      "metadata": {
        "id": "hBalWLM7j1_d"
      },
      "source": [
        "Respuesta"
      ]
    },
    {
      "cell_type": "markdown",
      "metadata": {
        "id": "C_gPu_ft0NP6"
      },
      "source": [
        ">Este problema no se trata de uno ni de minimización ni de minimización, ya que lo que se desea es calcular todas las combinaciones posibles de números y signos, de manera que al evaluar las funciones se obtenga por lo menos una de ellas, cuyo resultado sea igual a la entrada del problema.\n",
        " \n",
        ">Al no haber un resultado que queramos optimizar, podemos decir por lo tanto que no existe una función objetivo. En lugar de esto, lo único que evaluamos es si existe una combinación que da como resultado un número concreto.\n",
        " \n",
        " \n",
        "\n"
      ]
    },
    {
      "cell_type": "markdown",
      "metadata": {
        "id": "rlnTYgY1j6I2"
      },
      "source": [
        "**Diseña un algoritmo para resolver el problema por fuerza bruta**"
      ]
    },
    {
      "cell_type": "markdown",
      "metadata": {
        "id": "70rDgxYXkC8r"
      },
      "source": [
        "Respuesta"
      ]
    },
    {
      "cell_type": "markdown",
      "metadata": {
        "id": "BngWWrc40NP7"
      },
      "source": [
        ">Para resolver este algoritmo por fuerza bruta, vamos a crear dos funciones, una que calcule todas las diferentes combinaciones que dan como resultado el número buscado, y otra que pare en cuanto encuentre una solución válida.\n",
        " \n",
        ">Así pues, a cada una de las funciones se le pasan como argumentos: una lista con los números a combinar (lista de números del 1-9), una lista con los signos básicos, y el valor que la función intentará obtener combinando los números y signos.\n",
        " \n",
        ">Por último, las funciones devolverán las combinaciones como un $str$, en el caso de la función que calcula todas las soluciones, en forma de lista, y otro caso, como un único $str$.\n",
        "\n"
      ]
    },
    {
      "cell_type": "code",
      "execution_count": null,
      "metadata": {
        "id": "W0hdVcFd0NP8"
      },
      "outputs": [],
      "source": [
        "### Importacion de librerias\n",
        "\n",
        "import numpy as np\n",
        "import math\n",
        "from math import sqrt\n",
        "from math import inf\n",
        "\n",
        "import pandas as pd\n",
        "import matplotlib\n",
        "import random\n",
        "import time\n",
        "\n",
        "from itertools import permutations"
      ]
    },
    {
      "cell_type": "code",
      "execution_count": null,
      "metadata": {
        "id": "AiskKkzZfy4e"
      },
      "outputs": [],
      "source": [
        "def fuerza_bruta_all_solutions (numbers, signs, goal):\n",
        "    numbers_list = list(permutations(numbers, 5)) # creamos una lista con todas las posibles combinaciones de 5 numeros del 0-9    \n",
        "    signs_list = list(permutations(signs))  # creamos una lista con todas las posibles combinaciones de signos basicos [+,-,*,/]\n",
        "    \n",
        "    solutions = []\n",
        "    \n",
        "    for numbers_combination in numbers_list:\n",
        "        for sign_combination in signs_list:\n",
        "            result = numbers_combination[0] + sign_combination[0] + numbers_combination[1] +  sign_combination[1] +  numbers_combination[2] +  sign_combination[2] + numbers_combination[3] +   sign_combination[3] + numbers_combination[4] \n",
        "            if eval(result) == goal :\n",
        "                solutions.append(result)\n",
        "                \n",
        "    if(len(solutions)>0):\n",
        "        return solutions\n",
        "    else:\n",
        "        return 0"
      ]
    },
    {
      "cell_type": "code",
      "execution_count": null,
      "metadata": {
        "id": "T_znXZ4p0NP9"
      },
      "outputs": [],
      "source": [
        "def fuerza_bruta (numbers, signs, goal):\n",
        "    numbers_list = list(permutations(numbers, 5)) # creamos una lista con todas las posibles combinaciones de 5 numeros del 0-9    \n",
        "    signs_list = list(permutations(signs))  # creamos una lista con todas las posibles combinaciones de signos basicos [+,-,*,/]\n",
        "        \n",
        "    for numbers_combination in numbers_list:\n",
        "        for sign_combination in signs_list:\n",
        "            result = numbers_combination[0] + sign_combination[0] + numbers_combination[1] +  sign_combination[1] +  numbers_combination[2] +  sign_combination[2] + numbers_combination[3] +   sign_combination[3] + numbers_combination[4] \n",
        "            if eval(result) == goal :\n",
        "                return result\n",
        "    return 0"
      ]
    },
    {
      "cell_type": "markdown",
      "metadata": {
        "id": "V6Z9kJhR0NP9"
      },
      "source": [
        "Evaluamos cada una de las funciones:"
      ]
    },
    {
      "cell_type": "code",
      "execution_count": null,
      "metadata": {
        "id": "n7O9l-2E0NP9"
      },
      "outputs": [],
      "source": [
        "numbers = ['1', '2', '3', '4', '5', '6', '7', '8', '9']\n",
        "signs = ['+', '-', '*', '/']\n",
        "goal = 75"
      ]
    },
    {
      "cell_type": "code",
      "execution_count": null,
      "metadata": {
        "colab": {
          "base_uri": "https://localhost:8080/"
        },
        "id": "WmOENuWw0NP9",
        "outputId": "6ea9be71-0d7a-483d-9604-41dab38bc8a4"
      },
      "outputs": [
        {
          "output_type": "stream",
          "name": "stdout",
          "text": [
            "Se han encontrado 112 expresiones cuyo resultado es igual al valor 75\n",
            "Ha tardado en encontrarlas 6.4827704429626465 s\n"
          ]
        }
      ],
      "source": [
        "t1 = time.time() \n",
        "resultados = fuerza_bruta_all_solutions(numbers, signs, goal)\n",
        "t2 = time.time() - t1\n",
        "\n",
        "if len(resultados) > 0:\n",
        "    print(f'Se han encontrado {len(resultados)} expresiones cuyo resultado es igual al valor {goal}')\n",
        "else:\n",
        "    print(f'No se ha podido encontrar una expresion que de como resultado el valor {goal}')\n",
        "\n",
        "print(f\"Ha tardado en encontrarlas {t2} s\")"
      ]
    },
    {
      "cell_type": "code",
      "execution_count": null,
      "metadata": {
        "colab": {
          "base_uri": "https://localhost:8080/"
        },
        "id": "AMzfuN1N0NP-",
        "outputId": "17f788f4-04f4-4097-f2dd-be924e3db423"
      },
      "outputs": [
        {
          "output_type": "stream",
          "name": "stdout",
          "text": [
            "La expresion 5/1-2+8*9 es igual al valor 75.0\n",
            "Ha tardado en encontrarla 1.2774107456207275 s\n"
          ]
        }
      ],
      "source": [
        "t1 = time.time() \n",
        "resultado = fuerza_bruta(numbers, signs, goal)\n",
        "t2 = time.time() - t1\n",
        "\n",
        "if resultado != 0:\n",
        "    print(f'La expresion {resultado} es igual al valor {eval(resultado)}')\n",
        "else:\n",
        "    print(f'No se ha podido encontrar una expresion que de como resultado el valor {goal}')\n",
        "\n",
        "print(f\"Ha tardado en encontrarla {t2} s\")"
      ]
    },
    {
      "cell_type": "markdown",
      "metadata": {
        "id": "tgrnsC2nkFa8"
      },
      "source": [
        "**Calcula la complejidad del algoritmo por fuerza bruta**"
      ]
    },
    {
      "cell_type": "markdown",
      "metadata": {
        "id": "9eUd3xwckP68"
      },
      "source": [
        "Respuesta"
      ]
    },
    {
      "cell_type": "markdown",
      "metadata": {
        "id": "rvZWwL-ckRST"
      },
      "source": [
        ">El algoritmo obtenido tiene una complejidad $O(n!)$.\n",
        " \n",
        ">Esto se debe a que realizamos permutaciones tanto de los números como de los signos, haciendo que para cada uno de los n elementos, se creen ramas recursivamente, de manera que los nodos hijo serían las combinaciones finales de números y signos.\n",
        "\n"
      ]
    },
    {
      "cell_type": "markdown",
      "metadata": {
        "id": "txbrmLmskReM"
      },
      "source": [
        "**(*)Diseña un algoritmo que mejore la complejidad del algortimo por fuerza bruta. Argumenta porque crees que mejora el algoritmo por fuerza bruta**"
      ]
    },
    {
      "cell_type": "markdown",
      "metadata": {
        "id": "hLrVwt5QkZPD"
      },
      "source": [
        "Respuesta"
      ]
    },
    {
      "cell_type": "markdown",
      "metadata": {
        "id": "m1eyM21Vkabg"
      },
      "source": [
        "> Para intentar mejorar la complejidad del algoritmo por fuerza bruta pensé en diversos métodos que aplicar, pero al no ser un problema de optimización, es complicado modelar este tipo de algoritmo con un método voraz, o con algoritmos del tipo de ramificación y poda o backtracking. El problema se podría modelar como un árbol de decisiones, y podar aquellas ramas cuyo primeros X digitos hacen que no se pueda llegar a la solución objetivo independientemente del resto de dígitos, pero acabé descartando la idea.\n",
        " \n",
        ">Debido a esto, en su lugar acabó introduciendo un componente heurístico mediante la aplicación de una técnica de búsqueda aleatoria. De esta manera, podremos obtener un algoritmo con complejidad lineal, mejorando así considerablemente el coste respecto a la solución de fuerza bruta, y siendo además más rápido de programar.\n",
        " \n",
        ">Aun así, al ser un método heurístico, existe la posibilidad de que no se encuentre ninguna solución posible al ejecutar el algoritmo una única vez, haciendo que sea necesario en ocasiones aumentar el número de iteraciones, o ejecutarlo hasta encontrar una solución.\n",
        " \n",
        ">Para conseguir implementar el metodo de busqueda aleatoria, vamos a crear dos funciones:\n",
        ">>**generar solución( ):** Genera soluciones aleatorias combinando aleatoriamente 5 números y 4 signos.\n",
        " \n",
        ">>**busqueda_aleatoria( ):** bucle que llama continuamente a la función generar solución( ), hasta encontrar una solución válida, o hasta llegar a un número máximo de iteraciones.\n",
        "\n"
      ]
    },
    {
      "cell_type": "code",
      "execution_count": null,
      "metadata": {
        "id": "eh-0BXAn0NP_"
      },
      "outputs": [],
      "source": [
        "def generar_solucion(numbers, signs):\n",
        "    numbers_combination = []\n",
        "    sign_combination = []\n",
        "    \n",
        "    # Generamos el primer numero\n",
        "    numbers_combination += random.choice(list(set(numbers).difference(set(numbers_combination))))\n",
        "\n",
        "    # Generamos el resto de signos y numeros\n",
        "    for i in range(4):\n",
        "        numbers_combination +=  random.choice(list(set(numbers).difference(set(numbers_combination))))\n",
        "        sign_combination += random.choice(list(set(signs).difference(set(sign_combination))))\n",
        "\n",
        "    # Devolvemos la solucion\n",
        "    return numbers_combination[0] + sign_combination[0] + numbers_combination[1] +  sign_combination[1] +  numbers_combination[2] +  sign_combination[2] + numbers_combination[3] +   sign_combination[3] + numbers_combination[4] "
      ]
    },
    {
      "cell_type": "code",
      "execution_count": null,
      "metadata": {
        "id": "MyqC6ehR0NQA"
      },
      "outputs": [],
      "source": [
        "def busqueda_aleatoria(numbers, signs, goal, max_it):\n",
        "    for i in range(max_it):\n",
        "        solucion = generar_solucion(numbers, signs)\n",
        "        \n",
        "        if eval(solucion) == goal:\n",
        "            return solucion\n",
        "        \n",
        "    return 0"
      ]
    },
    {
      "cell_type": "markdown",
      "metadata": {
        "id": "rq9_vXCx0NQA"
      },
      "source": [
        "Evaluamos cada una de las funciones:"
      ]
    },
    {
      "cell_type": "code",
      "execution_count": null,
      "metadata": {
        "colab": {
          "base_uri": "https://localhost:8080/"
        },
        "id": "5VLiaBY00NQA",
        "outputId": "36e31ca5-b78d-4426-f4c8-6b938995d7e9"
      },
      "outputs": [
        {
          "output_type": "stream",
          "name": "stdout",
          "text": [
            "La combinacion generada es: 4*6-1+5/3 = 24.666666666666668\n",
            "Ha tardado en encontrarla 0.0003209114074707031 s\n"
          ]
        }
      ],
      "source": [
        "t1 = time.time() \n",
        "combinacion = generar_solucion(numbers, signs)\n",
        "t2 = time.time() - t1\n",
        "\n",
        "print(f'La combinacion generada es: {combinacion} = {eval(combinacion)}')\n",
        "print(f\"Ha tardado en encontrarla {t2} s\")"
      ]
    },
    {
      "cell_type": "code",
      "execution_count": null,
      "metadata": {
        "id": "XwpXQLqY0NQA"
      },
      "outputs": [],
      "source": [
        "numbers = ['1', '2', '3', '4', '5', '6', '7', '8', '9']\n",
        "signs = ['+', '-', '*', '/']\n",
        "goal = 75\n",
        "max_it = 10000"
      ]
    },
    {
      "cell_type": "code",
      "execution_count": null,
      "metadata": {
        "colab": {
          "base_uri": "https://localhost:8080/"
        },
        "id": "CoRC25Xt0NQA",
        "outputId": "1bd3e73b-46d7-4ff3-a382-52a1c665f04b"
      },
      "outputs": [
        {
          "output_type": "stream",
          "name": "stdout",
          "text": [
            "La expresion 7-4+9*8/1 es igual al valor 75.0\n",
            "Ha tardado en encontrarla 0.028600454330444336 s\n"
          ]
        }
      ],
      "source": [
        "t1 = time.time() \n",
        "resultado = busqueda_aleatoria(numbers, signs, goal, max_it)\n",
        "t2 = time.time() - t1\n",
        "\n",
        "if resultado != 0:\n",
        "    print(f'La expresion {resultado} es igual al valor {eval(resultado)}')\n",
        "else:\n",
        "    print(f'No se ha podido encontrar una expresion que de como resultado el valor {goal}')\n",
        "\n",
        "print(f\"Ha tardado en encontrarla {t2} s\")\n"
      ]
    },
    {
      "cell_type": "markdown",
      "metadata": {
        "id": "eGDB4K6uk1iN"
      },
      "source": [
        "**(*)Calcula la complejidad del algoritmo**"
      ]
    },
    {
      "cell_type": "markdown",
      "metadata": {
        "id": "NhpTh_BPk1ms"
      },
      "source": [
        "Respuesta"
      ]
    },
    {
      "cell_type": "markdown",
      "metadata": {
        "id": "nREzhkStlCq8"
      },
      "source": [
        ">Como ya hemos comentado anteriormente, al conseguir aplicar el método de búsqueda aleatoria, la complejidad del algoritmo viene definida por el número de veces que lo ejecutamos, haciendo que el coste se reduzca a $O(n)$. Siendo n el nº de iteraciones.\n",
        " \n",
        " \n",
        "\n"
      ]
    },
    {
      "cell_type": "markdown",
      "metadata": {
        "id": "3M6QjTsSkmYe"
      },
      "source": [
        "**Según el problema (y tenga sentido), diseña un juego de datos de entrada aleatorios**"
      ]
    },
    {
      "cell_type": "markdown",
      "metadata": {
        "id": "Jc3_OlyNkvjZ"
      },
      "source": [
        "Respuesta"
      ]
    },
    {
      "cell_type": "markdown",
      "metadata": {
        "id": "sJ-N2etjkyWc"
      },
      "source": [
        ">Para realizar este apartado, lo primero que vamos a hacer es determinar el rango de valores objetivo que puede tomar la entrada de este algoritmo y encontrar una solución.\n",
        " \n",
        ">De manera teórica se pueden obtener los números máximos y mínimos de manera relativamente sencilla obteniendo las combinaciones a mano:\n",
        ">>Valor máximo: $9*8+7-1/6 = 78,8333...$ $\\implies$ $77$\n",
        " \n",
        ">>Valor minimo:  $1+2/7-8*9 = -70,7142...$ $\\implies$ $-69$\n",
        " \n",
        ">De manera práctica se pueden obtener como se muestra a continuación: \n",
        " \n",
        "\n"
      ]
    },
    {
      "cell_type": "code",
      "execution_count": null,
      "metadata": {
        "colab": {
          "base_uri": "https://localhost:8080/"
        },
        "id": "cC4zh1Je0NQB",
        "outputId": "8ef32404-74b6-4dae-9ed1-a04e1a4560c5"
      },
      "outputs": [
        {
          "output_type": "stream",
          "name": "stdout",
          "text": [
            "Rango de Valores: [-69.0, 77.0]] \n"
          ]
        }
      ],
      "source": [
        "maximo = -float('Inf')\n",
        "minimo = float('Inf')\n",
        "max_it = 100000\n",
        "\n",
        "\n",
        "for i in range(-100, 101, 1):\n",
        "    sol = busqueda_aleatoria(numbers, signs, i, max_it)\n",
        "    # if resultado != 0:\n",
        "    # print(f'{i}: {(sol)}')\n",
        "        \n",
        "    if sol == 0:\n",
        "        if sol > maximo:\n",
        "            maximo = sol\n",
        "        if sol < minimo:\n",
        "            minimo = sol\n",
        "    else:\n",
        "        if eval(sol) > maximo:\n",
        "            maximo = eval(sol)\n",
        "        if eval(sol) < minimo:\n",
        "            minimo = eval(sol)\n",
        "\n",
        "rango = [minimo, maximo]\n",
        "print(f'Rango de Valores: {rango}] ')"
      ]
    },
    {
      "cell_type": "markdown",
      "metadata": {
        "id": "ikf4Y0nW0NQC"
      },
      "source": [
        "Una vez obtenido el rango de valores que puede tomar el número objetivo, vamos a proceder a generar el conjunto de datos aleatorios escogiendo X números que se encuentren dentro de ese rango de manera aleatoria.\n",
        "\n"
      ]
    },
    {
      "cell_type": "code",
      "execution_count": null,
      "metadata": {
        "colab": {
          "base_uri": "https://localhost:8080/"
        },
        "id": "kSktKTkf0NQC",
        "outputId": "5b0fba47-2119-43e3-ffde-e54436e8706d"
      },
      "outputs": [
        {
          "output_type": "stream",
          "name": "stdout",
          "text": [
            "Conjunto de datos aleatorios: [-65, 14, 39, -54, 9, 4, -3, 67, 71, -5, -18, 22, -53, 20, 36, -29]\n"
          ]
        }
      ],
      "source": [
        "rango_valores = [*range(-69, 78, 1)]\n",
        "datos_aleatorios = []\n",
        "dimension = 15\n",
        "\n",
        "datos_aleatorios.append(np.random.choice(list(set(rango_valores) - set(datos_aleatorios))))\n",
        "\n",
        "for i in range(dimension):\n",
        "    datos_aleatorios.append(np.random.choice(list(set(rango_valores) - set(datos_aleatorios))))\n",
        "\n",
        "print(f'Conjunto de datos aleatorios: {datos_aleatorios}')"
      ]
    },
    {
      "cell_type": "markdown",
      "metadata": {
        "id": "zy5ZROmjlGo1"
      },
      "source": [
        "**Aplica el algoritmo al juego de datos generado**"
      ]
    },
    {
      "cell_type": "markdown",
      "metadata": {
        "id": "_Cmj-PVylMsa"
      },
      "source": [
        "Respuesta"
      ]
    },
    {
      "cell_type": "code",
      "execution_count": null,
      "metadata": {
        "id": "Jkx8GeiYlUz1",
        "colab": {
          "base_uri": "https://localhost:8080/"
        },
        "outputId": "27b287ee-b7ff-4777-ae0b-13b3bca554ab"
      },
      "outputs": [
        {
          "output_type": "stream",
          "name": "stdout",
          "text": [
            "La expresion 4+3-8*9/1 es igual al valor -65.0\n",
            "Ha tardado en encontrarla 0.3324582576751709 s\n",
            "\n",
            "La expresion 4*5/1-8+2 es igual al valor 14.0\n",
            "Ha tardado en encontrarla 0.0006537437438964844 s\n",
            "\n",
            "La expresion 8*5-7/1+6 es igual al valor 39.0\n",
            "Ha tardado en encontrarla 0.01642131805419922 s\n",
            "\n",
            "La expresion 5-9*7/1+4 es igual al valor -54.0\n",
            "Ha tardado en encontrarla 0.3039696216583252 s\n",
            "\n",
            "La expresion 8+4*1-6/2 es igual al valor 9.0\n",
            "Ha tardado en encontrarla 0.001592397689819336 s\n",
            "\n",
            "La expresion 4-6+2/3*9 es igual al valor 4.0\n",
            "Ha tardado en encontrarla 0.024058103561401367 s\n",
            "\n",
            "La expresion 4+8-5/1*3 es igual al valor -3.0\n",
            "Ha tardado en encontrarla 0.0034627914428710938 s\n",
            "\n",
            "La expresion 9*8+4/2-7 es igual al valor 67.0\n",
            "Ha tardado en encontrarla 0.07519721984863281 s\n",
            "\n",
            "La expresion 9*8-4+6/2 es igual al valor 71.0\n",
            "Ha tardado en encontrarla 0.1538536548614502 s\n",
            "\n",
            "La expresion 5+6/1-2*8 es igual al valor -5.0\n",
            "Ha tardado en encontrarla 0.0036034584045410156 s\n",
            "\n",
            "La expresion 3-5*6+9/1 es igual al valor -18.0\n",
            "Ha tardado en encontrarla 0.05946969985961914 s\n",
            "\n",
            "La expresion 4/2*8+7-1 es igual al valor 22.0\n",
            "Ha tardado en encontrarla 0.010516881942749023 s\n",
            "\n",
            "La expresion 4-7/1*9+6 es igual al valor -53.0\n",
            "Ha tardado en encontrarla 0.07152056694030762 s\n",
            "\n",
            "La expresion 9/4*8+5-3 es igual al valor 20.0\n",
            "Ha tardado en encontrarla 0.0002231597900390625 s\n",
            "\n",
            "La expresion 8*5+3/1-7 es igual al valor 36.0\n",
            "Ha tardado en encontrarla 0.01798415184020996 s\n",
            "\n",
            "La expresion 9-6*7+4/1 es igual al valor -29.0\n",
            "Ha tardado en encontrarla 0.017485380172729492 s\n",
            "\n"
          ]
        }
      ],
      "source": [
        "for i in range(len(datos_aleatorios)):\n",
        "    t1 = time.time() \n",
        "    resultado = busqueda_aleatoria(numbers, signs, datos_aleatorios[i], max_it)\n",
        "    t2 = time.time() - t1\n",
        "\n",
        "    if resultado != 0:\n",
        "        print(f'La expresion {resultado} es igual al valor {eval(resultado)}')\n",
        "    else:\n",
        "        print(f'No se ha podido encontrar una expresion que de como resultado el valor {goal}')\n",
        "    \n",
        "    print(f\"Ha tardado en encontrarla {t2} s\\n\")"
      ]
    },
    {
      "cell_type": "markdown",
      "metadata": {
        "id": "eTFWUJQrtGcv"
      },
      "source": [
        "**Enumera las referencias que has utilizado(si ha sido necesario) para llevar a cabo el trabajo**"
      ]
    },
    {
      "cell_type": "markdown",
      "metadata": {
        "id": "YKQ_mRBttWsP"
      },
      "source": [
        "Respuesta"
      ]
    },
    {
      "cell_type": "markdown",
      "metadata": {
        "id": "7bvO8FCW0NQD"
      },
      "source": [
        ">https://docs.python.org/3/library/itertools.html#itertools.permutations\n",
        "\n",
        ">https://www.delftstack.com/es/howto/python/python-randomly-select-from-list/\n",
        "\n",
        ">https://programmerclick.com/article/9139292621/\n",
        "\n",
        ">http://elclubdelautodidacta.es/wp/2012/07/python-union-interseccion-y-diferencia-de-conjuntos/\n",
        "\n"
      ]
    },
    {
      "cell_type": "markdown",
      "metadata": {
        "id": "kAkDPUyRtYyH"
      },
      "source": [
        "**Describe brevemente las lineas de como crees que es posible avanzar en el estudio del problema. Ten en cuenta incluso posibles variaciones del problema y/o variaciones al alza del tamaño**"
      ]
    },
    {
      "cell_type": "markdown",
      "metadata": {
        "id": "IE0uZmo-tZu-"
      },
      "source": [
        "Respuesta"
      ]
    },
    {
      "cell_type": "markdown",
      "metadata": {
        "id": "Wv4hzvlD0NQD"
      },
      "source": [
        ">Para avanzar en el estudio de este problema, yo plantearía la posibilidad de programar un algoritmo de ramificación y poda, de manera que se establezca una cota que permita podar determinadas ramas, cuando debido a la combinación de sus X primeros dígitos, ya se puede saber que no formaran parte de la solución.\n",
        " \n",
        ">También podría ser interesante plantear este problema como uno de programación dinámica, de manera que únicamente se calculen todas las posibles combinaciones de signos y números una vez, y se almacenen en un vector. De esta manera, el resto de llamadas a la función consistirán únicamente en recorrer el vector para encontrar la expresión igual al número buscado. El mayor problema sería que la primera ejecución del algoritmo tendrá un coste igual al algoritmo de fuerza bruta, y que la complejidad temporal en comparación a otros métodos también aumenta. \n",
        "\n"
      ]
    }
  ],
  "metadata": {
    "colab": {
      "provenance": [],
      "include_colab_link": true
    },
    "kernelspec": {
      "display_name": "Python 3",
      "language": "python",
      "name": "python3"
    },
    "language_info": {
      "codemirror_mode": {
        "name": "ipython",
        "version": 3
      },
      "file_extension": ".py",
      "mimetype": "text/x-python",
      "name": "python",
      "nbconvert_exporter": "python",
      "pygments_lexer": "ipython3",
      "version": "3.8.8"
    }
  },
  "nbformat": 4,
  "nbformat_minor": 0
}